{
 "cells": [
  {
   "cell_type": "code",
   "execution_count": 379,
   "metadata": {},
   "outputs": [],
   "source": [
    "# training: the rest, testing: last 12 months"
   ]
  },
  {
   "cell_type": "code",
   "execution_count": 380,
   "metadata": {},
   "outputs": [],
   "source": [
    "import pandas as pd\n",
    "from pandas import datetime\n",
    "from matplotlib import pyplot as plt\n",
    "from sklearn.metrics import mean_squared_error\n",
    "from statsmodels.tsa.holtwinters import ExponentialSmoothing"
   ]
  },
  {
   "cell_type": "code",
   "execution_count": 381,
   "metadata": {},
   "outputs": [],
   "source": [
    "df = pd.read_csv('Ventas.csv')"
   ]
  },
  {
   "cell_type": "code",
   "execution_count": 382,
   "metadata": {},
   "outputs": [
    {
     "data": {
      "text/html": [
       "<div>\n",
       "<style scoped>\n",
       "    .dataframe tbody tr th:only-of-type {\n",
       "        vertical-align: middle;\n",
       "    }\n",
       "\n",
       "    .dataframe tbody tr th {\n",
       "        vertical-align: top;\n",
       "    }\n",
       "\n",
       "    .dataframe thead th {\n",
       "        text-align: right;\n",
       "    }\n",
       "</style>\n",
       "<table border=\"1\" class=\"dataframe\">\n",
       "  <thead>\n",
       "    <tr style=\"text-align: right;\">\n",
       "      <th></th>\n",
       "      <th>Date</th>\n",
       "      <th>Item Code</th>\n",
       "      <th>Item Desc</th>\n",
       "      <th>Category</th>\n",
       "      <th>Quantity</th>\n",
       "      <th>Total</th>\n",
       "      <th>Month</th>\n",
       "    </tr>\n",
       "  </thead>\n",
       "  <tbody>\n",
       "    <tr>\n",
       "      <th>0</th>\n",
       "      <td>1/1/17</td>\n",
       "      <td>150</td>\n",
       "      <td>BAVIERA X 1</td>\n",
       "      <td>Tapas</td>\n",
       "      <td>6.0</td>\n",
       "      <td>750.0</td>\n",
       "      <td>1</td>\n",
       "    </tr>\n",
       "    <tr>\n",
       "      <th>1</th>\n",
       "      <td>1/1/17</td>\n",
       "      <td>151</td>\n",
       "      <td>BAVIERA X 2</td>\n",
       "      <td>Tapas</td>\n",
       "      <td>8.0</td>\n",
       "      <td>1920.0</td>\n",
       "      <td>1</td>\n",
       "    </tr>\n",
       "    <tr>\n",
       "      <th>2</th>\n",
       "      <td>1/1/17</td>\n",
       "      <td>59</td>\n",
       "      <td>BRUSQUETA HONG</td>\n",
       "      <td>Apetizers</td>\n",
       "      <td>6.0</td>\n",
       "      <td>570.0</td>\n",
       "      <td>1</td>\n",
       "    </tr>\n",
       "    <tr>\n",
       "      <th>3</th>\n",
       "      <td>1/1/17</td>\n",
       "      <td>58</td>\n",
       "      <td>BRUSQUETAS CRUD</td>\n",
       "      <td>Apetizers</td>\n",
       "      <td>9.0</td>\n",
       "      <td>720.0</td>\n",
       "      <td>1</td>\n",
       "    </tr>\n",
       "    <tr>\n",
       "      <th>4</th>\n",
       "      <td>1/1/17</td>\n",
       "      <td>78</td>\n",
       "      <td>C. CAPRESSE</td>\n",
       "      <td>Pizzas</td>\n",
       "      <td>6.0</td>\n",
       "      <td>510.0</td>\n",
       "      <td>1</td>\n",
       "    </tr>\n",
       "    <tr>\n",
       "      <th>5</th>\n",
       "      <td>1/1/17</td>\n",
       "      <td>79</td>\n",
       "      <td>C. CRUDO RUCULA</td>\n",
       "      <td>Pizzas</td>\n",
       "      <td>2.0</td>\n",
       "      <td>190.0</td>\n",
       "      <td>1</td>\n",
       "    </tr>\n",
       "    <tr>\n",
       "      <th>6</th>\n",
       "      <td>1/1/17</td>\n",
       "      <td>71</td>\n",
       "      <td>C. FUGAZZETA</td>\n",
       "      <td>Pizzas</td>\n",
       "      <td>2.0</td>\n",
       "      <td>160.0</td>\n",
       "      <td>1</td>\n",
       "    </tr>\n",
       "    <tr>\n",
       "      <th>7</th>\n",
       "      <td>1/1/17</td>\n",
       "      <td>75</td>\n",
       "      <td>C. JAMON</td>\n",
       "      <td>Pizzas</td>\n",
       "      <td>2.0</td>\n",
       "      <td>170.0</td>\n",
       "      <td>1</td>\n",
       "    </tr>\n",
       "    <tr>\n",
       "      <th>8</th>\n",
       "      <td>1/1/17</td>\n",
       "      <td>80</td>\n",
       "      <td>C. JAMON Y MORR</td>\n",
       "      <td>Pizzas</td>\n",
       "      <td>2.0</td>\n",
       "      <td>180.0</td>\n",
       "      <td>1</td>\n",
       "    </tr>\n",
       "    <tr>\n",
       "      <th>9</th>\n",
       "      <td>1/1/17</td>\n",
       "      <td>77</td>\n",
       "      <td>C. MORRONES</td>\n",
       "      <td>Pizzas</td>\n",
       "      <td>1.0</td>\n",
       "      <td>85.0</td>\n",
       "      <td>1</td>\n",
       "    </tr>\n",
       "  </tbody>\n",
       "</table>\n",
       "</div>"
      ],
      "text/plain": [
       "     Date  Item Code        Item Desc   Category  Quantity   Total  Month\n",
       "0  1/1/17        150      BAVIERA X 1      Tapas       6.0   750.0      1\n",
       "1  1/1/17        151      BAVIERA X 2      Tapas       8.0  1920.0      1\n",
       "2  1/1/17         59   BRUSQUETA HONG  Apetizers       6.0   570.0      1\n",
       "3  1/1/17         58  BRUSQUETAS CRUD  Apetizers       9.0   720.0      1\n",
       "4  1/1/17         78      C. CAPRESSE     Pizzas       6.0   510.0      1\n",
       "5  1/1/17         79  C. CRUDO RUCULA     Pizzas       2.0   190.0      1\n",
       "6  1/1/17         71     C. FUGAZZETA     Pizzas       2.0   160.0      1\n",
       "7  1/1/17         75         C. JAMON     Pizzas       2.0   170.0      1\n",
       "8  1/1/17         80  C. JAMON Y MORR     Pizzas       2.0   180.0      1\n",
       "9  1/1/17         77      C. MORRONES     Pizzas       1.0    85.0      1"
      ]
     },
     "execution_count": 382,
     "metadata": {},
     "output_type": "execute_result"
    }
   ],
   "source": [
    "df['Month'] = pd.DatetimeIndex(df['Date']).month\n",
    "df.head(10)"
   ]
  },
  {
   "cell_type": "code",
   "execution_count": 383,
   "metadata": {},
   "outputs": [],
   "source": [
    "df = df.drop(['Item Code', 'Item Desc', 'Quantity'], axis=1)"
   ]
  },
  {
   "cell_type": "code",
   "execution_count": 384,
   "metadata": {},
   "outputs": [
    {
     "data": {
      "text/html": [
       "<div>\n",
       "<style scoped>\n",
       "    .dataframe tbody tr th:only-of-type {\n",
       "        vertical-align: middle;\n",
       "    }\n",
       "\n",
       "    .dataframe tbody tr th {\n",
       "        vertical-align: top;\n",
       "    }\n",
       "\n",
       "    .dataframe thead th {\n",
       "        text-align: right;\n",
       "    }\n",
       "</style>\n",
       "<table border=\"1\" class=\"dataframe\">\n",
       "  <thead>\n",
       "    <tr style=\"text-align: right;\">\n",
       "      <th></th>\n",
       "      <th>Date</th>\n",
       "      <th>Category</th>\n",
       "      <th>Total</th>\n",
       "      <th>Month</th>\n",
       "    </tr>\n",
       "  </thead>\n",
       "  <tbody>\n",
       "    <tr>\n",
       "      <th>0</th>\n",
       "      <td>1/1/17</td>\n",
       "      <td>Tapas</td>\n",
       "      <td>750.0</td>\n",
       "      <td>1</td>\n",
       "    </tr>\n",
       "    <tr>\n",
       "      <th>1</th>\n",
       "      <td>1/1/17</td>\n",
       "      <td>Tapas</td>\n",
       "      <td>1920.0</td>\n",
       "      <td>1</td>\n",
       "    </tr>\n",
       "    <tr>\n",
       "      <th>2</th>\n",
       "      <td>1/1/17</td>\n",
       "      <td>Apetizers</td>\n",
       "      <td>570.0</td>\n",
       "      <td>1</td>\n",
       "    </tr>\n",
       "    <tr>\n",
       "      <th>3</th>\n",
       "      <td>1/1/17</td>\n",
       "      <td>Apetizers</td>\n",
       "      <td>720.0</td>\n",
       "      <td>1</td>\n",
       "    </tr>\n",
       "    <tr>\n",
       "      <th>4</th>\n",
       "      <td>1/1/17</td>\n",
       "      <td>Pizzas</td>\n",
       "      <td>510.0</td>\n",
       "      <td>1</td>\n",
       "    </tr>\n",
       "    <tr>\n",
       "      <th>5</th>\n",
       "      <td>1/1/17</td>\n",
       "      <td>Pizzas</td>\n",
       "      <td>190.0</td>\n",
       "      <td>1</td>\n",
       "    </tr>\n",
       "    <tr>\n",
       "      <th>6</th>\n",
       "      <td>1/1/17</td>\n",
       "      <td>Pizzas</td>\n",
       "      <td>160.0</td>\n",
       "      <td>1</td>\n",
       "    </tr>\n",
       "    <tr>\n",
       "      <th>7</th>\n",
       "      <td>1/1/17</td>\n",
       "      <td>Pizzas</td>\n",
       "      <td>170.0</td>\n",
       "      <td>1</td>\n",
       "    </tr>\n",
       "    <tr>\n",
       "      <th>8</th>\n",
       "      <td>1/1/17</td>\n",
       "      <td>Pizzas</td>\n",
       "      <td>180.0</td>\n",
       "      <td>1</td>\n",
       "    </tr>\n",
       "    <tr>\n",
       "      <th>9</th>\n",
       "      <td>1/1/17</td>\n",
       "      <td>Pizzas</td>\n",
       "      <td>85.0</td>\n",
       "      <td>1</td>\n",
       "    </tr>\n",
       "  </tbody>\n",
       "</table>\n",
       "</div>"
      ],
      "text/plain": [
       "     Date   Category   Total  Month\n",
       "0  1/1/17      Tapas   750.0      1\n",
       "1  1/1/17      Tapas  1920.0      1\n",
       "2  1/1/17  Apetizers   570.0      1\n",
       "3  1/1/17  Apetizers   720.0      1\n",
       "4  1/1/17     Pizzas   510.0      1\n",
       "5  1/1/17     Pizzas   190.0      1\n",
       "6  1/1/17     Pizzas   160.0      1\n",
       "7  1/1/17     Pizzas   170.0      1\n",
       "8  1/1/17     Pizzas   180.0      1\n",
       "9  1/1/17     Pizzas    85.0      1"
      ]
     },
     "execution_count": 384,
     "metadata": {},
     "output_type": "execute_result"
    }
   ],
   "source": [
    "df.head(10)"
   ]
  },
  {
   "cell_type": "code",
   "execution_count": 385,
   "metadata": {},
   "outputs": [],
   "source": [
    "df.sort_values([\"Category\", \"Date\"], axis = 0, ascending = True, \n",
    "                 inplace = True, na_position ='last') "
   ]
  },
  {
   "cell_type": "code",
   "execution_count": 386,
   "metadata": {},
   "outputs": [
    {
     "data": {
      "text/html": [
       "<div>\n",
       "<style scoped>\n",
       "    .dataframe tbody tr th:only-of-type {\n",
       "        vertical-align: middle;\n",
       "    }\n",
       "\n",
       "    .dataframe tbody tr th {\n",
       "        vertical-align: top;\n",
       "    }\n",
       "\n",
       "    .dataframe thead th {\n",
       "        text-align: right;\n",
       "    }\n",
       "</style>\n",
       "<table border=\"1\" class=\"dataframe\">\n",
       "  <thead>\n",
       "    <tr style=\"text-align: right;\">\n",
       "      <th></th>\n",
       "      <th>Date</th>\n",
       "      <th>Month</th>\n",
       "      <th>Total</th>\n",
       "      <th>Category</th>\n",
       "    </tr>\n",
       "  </thead>\n",
       "  <tbody>\n",
       "    <tr>\n",
       "      <th>2</th>\n",
       "      <td>2017-01-01</td>\n",
       "      <td>1</td>\n",
       "      <td>570.0</td>\n",
       "      <td>Apetizers</td>\n",
       "    </tr>\n",
       "    <tr>\n",
       "      <th>3</th>\n",
       "      <td>2017-01-01</td>\n",
       "      <td>1</td>\n",
       "      <td>720.0</td>\n",
       "      <td>Apetizers</td>\n",
       "    </tr>\n",
       "    <tr>\n",
       "      <th>17</th>\n",
       "      <td>2017-01-01</td>\n",
       "      <td>1</td>\n",
       "      <td>2600.0</td>\n",
       "      <td>Apetizers</td>\n",
       "    </tr>\n",
       "    <tr>\n",
       "      <th>47</th>\n",
       "      <td>2017-01-01</td>\n",
       "      <td>1</td>\n",
       "      <td>2805.0</td>\n",
       "      <td>Apetizers</td>\n",
       "    </tr>\n",
       "    <tr>\n",
       "      <th>64</th>\n",
       "      <td>2017-01-01</td>\n",
       "      <td>1</td>\n",
       "      <td>3500.0</td>\n",
       "      <td>Apetizers</td>\n",
       "    </tr>\n",
       "    <tr>\n",
       "      <th>84</th>\n",
       "      <td>2017-02-01</td>\n",
       "      <td>2</td>\n",
       "      <td>2500.0</td>\n",
       "      <td>Apetizers</td>\n",
       "    </tr>\n",
       "    <tr>\n",
       "      <th>114</th>\n",
       "      <td>2017-02-01</td>\n",
       "      <td>2</td>\n",
       "      <td>3060.0</td>\n",
       "      <td>Apetizers</td>\n",
       "    </tr>\n",
       "    <tr>\n",
       "      <th>124</th>\n",
       "      <td>2017-02-01</td>\n",
       "      <td>2</td>\n",
       "      <td>3040.0</td>\n",
       "      <td>Apetizers</td>\n",
       "    </tr>\n",
       "    <tr>\n",
       "      <th>125</th>\n",
       "      <td>2017-02-01</td>\n",
       "      <td>2</td>\n",
       "      <td>645.0</td>\n",
       "      <td>Apetizers</td>\n",
       "    </tr>\n",
       "    <tr>\n",
       "      <th>126</th>\n",
       "      <td>2017-02-01</td>\n",
       "      <td>2</td>\n",
       "      <td>1200.0</td>\n",
       "      <td>Apetizers</td>\n",
       "    </tr>\n",
       "  </tbody>\n",
       "</table>\n",
       "</div>"
      ],
      "text/plain": [
       "          Date  Month   Total   Category\n",
       "2   2017-01-01      1   570.0  Apetizers\n",
       "3   2017-01-01      1   720.0  Apetizers\n",
       "17  2017-01-01      1  2600.0  Apetizers\n",
       "47  2017-01-01      1  2805.0  Apetizers\n",
       "64  2017-01-01      1  3500.0  Apetizers\n",
       "84  2017-02-01      2  2500.0  Apetizers\n",
       "114 2017-02-01      2  3060.0  Apetizers\n",
       "124 2017-02-01      2  3040.0  Apetizers\n",
       "125 2017-02-01      2   645.0  Apetizers\n",
       "126 2017-02-01      2  1200.0  Apetizers"
      ]
     },
     "execution_count": 386,
     "metadata": {},
     "output_type": "execute_result"
    }
   ],
   "source": [
    "apetizer = df\n",
    "apetizer = apetizer[apetizer.Category == 'Apetizers'][['Date', 'Month', 'Total', 'Category']]\n",
    "apetizer['Date'] = pd.to_datetime(apetizer.Date)\n",
    "apetizer = apetizer.sort_values('Date')\n",
    "apetizer.head(10)"
   ]
  },
  {
   "cell_type": "code",
   "execution_count": 387,
   "metadata": {},
   "outputs": [
    {
     "data": {
      "image/png": "[encoded data removed]",
      "text/plain": [
       "<Figure size 432x288 with 1 Axes>"
      ]
     },
     "metadata": {
      "needs_background": "light"
     },
     "output_type": "display_data"
    }
   ],
   "source": [
    "apetizer.plot.line(x = 'Date', y = 'Total')\n",
    "plt.show()"
   ]
  },
  {
   "cell_type": "code",
   "execution_count": 388,
   "metadata": {},
   "outputs": [
    {
     "data": {
      "text/plain": [
       "884"
      ]
     },
     "execution_count": 388,
     "metadata": {},
     "output_type": "execute_result"
    }
   ],
   "source": [
    "# apetizer.index\n",
    "apetizer.size"
   ]
  },
  {
   "cell_type": "code",
   "execution_count": 389,
   "metadata": {},
   "outputs": [],
   "source": [
    "# pd.DatetimeIndex.freq = 'M'"
   ]
  },
  {
   "cell_type": "code",
   "execution_count": 390,
   "metadata": {},
   "outputs": [],
   "source": [
    "apetizer['Date'] = pd.to_datetime(apetizer['Date'])\n",
    "# apetizer.set_index('Month', inplace=True)"
   ]
  },
  {
   "cell_type": "code",
   "execution_count": 391,
   "metadata": {},
   "outputs": [
    {
     "data": {
      "text/html": [
       "<div>\n",
       "<style scoped>\n",
       "    .dataframe tbody tr th:only-of-type {\n",
       "        vertical-align: middle;\n",
       "    }\n",
       "\n",
       "    .dataframe tbody tr th {\n",
       "        vertical-align: top;\n",
       "    }\n",
       "\n",
       "    .dataframe thead th {\n",
       "        text-align: right;\n",
       "    }\n",
       "</style>\n",
       "<table border=\"1\" class=\"dataframe\">\n",
       "  <thead>\n",
       "    <tr style=\"text-align: right;\">\n",
       "      <th></th>\n",
       "      <th>Total</th>\n",
       "    </tr>\n",
       "    <tr>\n",
       "      <th>Date</th>\n",
       "      <th></th>\n",
       "    </tr>\n",
       "  </thead>\n",
       "  <tbody>\n",
       "    <tr>\n",
       "      <th>2017-01-01</th>\n",
       "      <td>570.0</td>\n",
       "    </tr>\n",
       "    <tr>\n",
       "      <th>2017-01-01</th>\n",
       "      <td>720.0</td>\n",
       "    </tr>\n",
       "    <tr>\n",
       "      <th>2017-01-01</th>\n",
       "      <td>2600.0</td>\n",
       "    </tr>\n",
       "    <tr>\n",
       "      <th>2017-01-01</th>\n",
       "      <td>2805.0</td>\n",
       "    </tr>\n",
       "    <tr>\n",
       "      <th>2017-01-01</th>\n",
       "      <td>3500.0</td>\n",
       "    </tr>\n",
       "  </tbody>\n",
       "</table>\n",
       "</div>"
      ],
      "text/plain": [
       "             Total\n",
       "Date              \n",
       "2017-01-01   570.0\n",
       "2017-01-01   720.0\n",
       "2017-01-01  2600.0\n",
       "2017-01-01  2805.0\n",
       "2017-01-01  3500.0"
      ]
     },
     "execution_count": 391,
     "metadata": {},
     "output_type": "execute_result"
    }
   ],
   "source": [
    "# train, test = apetizer.iloc[:100, 0], apetizer.iloc[99:, 0] \n",
    "# print(apetizer.size)\n",
    "# print(train.size)\n",
    "apetizer = pd.DataFrame(apetizer, columns=['Date','Total']).set_index('Date')\n",
    "apetizer.head()\n",
    "# apetizer.set_index('Date', inplace=True)"
   ]
  },
  {
   "cell_type": "code",
   "execution_count": 392,
   "metadata": {},
   "outputs": [],
   "source": [
    "# split data\n",
    "train = apetizer.iloc[:-24, 0]\n",
    "test = apetizer.iloc[-24:, 0]\n",
    "\n",
    "train.index = pd.to_datetime(train.index)\n",
    "test.index = pd.to_datetime(test.index)"
   ]
  },
  {
   "cell_type": "code",
   "execution_count": 393,
   "metadata": {},
   "outputs": [
    {
     "name": "stderr",
     "output_type": "stream",
     "text": [
      "/Library/Frameworks/Python.framework/Versions/3.7/lib/python3.7/site-packages/statsmodels/tsa/base/tsa_model.py:225: ValueWarning: A date index has been provided, but it has no associated frequency information and so will be ignored when e.g. forecasting.\n",
      "  ' ignored when e.g. forecasting.', ValueWarning)\n",
      "/Library/Frameworks/Python.framework/Versions/3.7/lib/python3.7/site-packages/statsmodels/tsa/base/tsa_model.py:225: ValueWarning: A date index has been provided, but it has no associated frequency information and so will be ignored when e.g. forecasting.\n",
      "  ' ignored when e.g. forecasting.', ValueWarning)\n"
     ]
    }
   ],
   "source": [
    "model = ExponentialSmoothing(train, trend=\"add\", seasonal=\"add\", seasonal_periods=12)\n",
    "model2 = ExponentialSmoothing(train, trend=\"add\", seasonal=\"add\", seasonal_periods=12, damped=True)\n",
    "model = model.fit()\n",
    "model2 = model2.fit()"
   ]
  },
  {
   "cell_type": "code",
   "execution_count": 394,
   "metadata": {},
   "outputs": [
    {
     "data": {
      "text/plain": [
       "<matplotlib.axes._subplots.AxesSubplot at 0x11964d400>"
      ]
     },
     "execution_count": 394,
     "metadata": {},
     "output_type": "execute_result"
    },
    {
     "data": {
      "image/png": "[encoded data removed]",
      "text/plain": [
       "<Figure size 432x288 with 1 Axes>"
      ]
     },
     "metadata": {
      "needs_background": "light"
     },
     "output_type": "display_data"
    }
   ],
   "source": [
    "# plt.plot(train.index, train, label = 'Train')\n",
    "# plt.plot(test.index, test, label = 'Test')\n",
    "\n",
    "train.plot.line(x = 'Date', y = 'Total')\n",
    "test.plot.line(x = 'Date', y = 'Total')"
   ]
  },
  {
   "cell_type": "code",
   "execution_count": 395,
   "metadata": {},
   "outputs": [
    {
     "name": "stdout",
     "output_type": "stream",
     "text": [
      "2019-02-01 00:00:00 2019-04-01 00:00:00\n",
      "<class 'pandas._libs.tslibs.timestamps.Timestamp'>\n",
      "<class 'pandas.core.series.Series'>\n"
     ]
    },
    {
     "name": "stderr",
     "output_type": "stream",
     "text": [
      "/Library/Frameworks/Python.framework/Versions/3.7/lib/python3.7/site-packages/statsmodels/tsa/base/tsa_model.py:531: ValueWarning: No supported index is available. Prediction results will be given with an integer index beginning at `start`.\n",
      "  ValueWarning)\n",
      "/Library/Frameworks/Python.framework/Versions/3.7/lib/python3.7/site-packages/statsmodels/tsa/base/tsa_model.py:531: ValueWarning: No supported index is available. Prediction results will be given with an integer index beginning at `start`.\n",
      "  ValueWarning)\n"
     ]
    }
   ],
   "source": [
    "print(test.index[0], test.index[-1])\n",
    "print(type(test.index[0]))\n",
    "print(type(test))\n",
    "# pd.date_range(apetizer.beginning_date.min(), apetizer.end_date.max())\n",
    "# pred = model.predict(start=864, end=884)\n",
    "pred = model.forecast(24)\n",
    "pred2 = model2.forecast(24)"
   ]
  },
  {
   "cell_type": "code",
   "execution_count": 396,
   "metadata": {},
   "outputs": [
    {
     "name": "stderr",
     "output_type": "stream",
     "text": [
      "/Library/Frameworks/Python.framework/Versions/3.7/lib/python3.7/site-packages/statsmodels/tsa/base/tsa_model.py:225: ValueWarning: A date index has been provided, but it has no associated frequency information and so will be ignored when e.g. forecasting.\n",
      "  ' ignored when e.g. forecasting.', ValueWarning)\n",
      "/Library/Frameworks/Python.framework/Versions/3.7/lib/python3.7/site-packages/statsmodels/tsa/base/tsa_model.py:225: ValueWarning: A date index has been provided, but it has no associated frequency information and so will be ignored when e.g. forecasting.\n",
      "  ' ignored when e.g. forecasting.', ValueWarning)\n",
      "/Library/Frameworks/Python.framework/Versions/3.7/lib/python3.7/site-packages/statsmodels/tsa/base/tsa_model.py:225: ValueWarning: A date index has been provided, but it has no associated frequency information and so will be ignored when e.g. forecasting.\n",
      "  ' ignored when e.g. forecasting.', ValueWarning)\n",
      "/Library/Frameworks/Python.framework/Versions/3.7/lib/python3.7/site-packages/statsmodels/tsa/base/tsa_model.py:225: ValueWarning: A date index has been provided, but it has no associated frequency information and so will be ignored when e.g. forecasting.\n",
      "  ' ignored when e.g. forecasting.', ValueWarning)\n"
     ]
    },
    {
     "data": {
      "image/png": "[encoded data removed]",
      "text/plain": [
       "<Figure size 432x288 with 1 Axes>"
      ]
     },
     "metadata": {
      "needs_background": "light"
     },
     "output_type": "display_data"
    }
   ],
   "source": [
    "# In fit1, we use additive trend, additive seasonal of period season_length=4 and a Box-Cox transformation.\n",
    "# In fit2, we use additive trend, multiplicative seasonal of period season_length=4 and a Box-Cox transformation.\n",
    "# In fit3, we use additive damped trend, additive seasonal of period season_length=4 and a Box-Cox transformation.\n",
    "# In fit4, we use additive damped trend, multiplicative seasonal of period season_length=4 and a Box-Cox transformation.\n",
    "\n",
    "\n",
    "fit1 = ExponentialSmoothing(train, seasonal_periods=4, trend='add', seasonal='add').fit(use_boxcox=True)\n",
    "fit2 = ExponentialSmoothing(train, seasonal_periods=4, trend='add', seasonal='mul').fit(use_boxcox=True)\n",
    "fit3 = ExponentialSmoothing(train, seasonal_periods=4, trend='add', seasonal='add', damped=True).fit(use_boxcox=True)\n",
    "fit4 = ExponentialSmoothing(train, seasonal_periods=4, trend='add', seasonal='mul', damped=True).fit(use_boxcox=True)\n",
    "\n",
    "fit1.fittedvalues.plot(style='--', color='red')\n",
    "fit2.fittedvalues.plot(style='--', color='green')\n",
    "\n",
    "# fit1.forecast(12).plot(style='--', marker='o', color='red', legend=True)\n",
    "# fit2.forecast(12).plot(style='--', marker='o', color='green', legend=True)\n",
    "\n",
    "plt.show()"
   ]
  },
  {
   "cell_type": "code",
   "execution_count": 397,
   "metadata": {},
   "outputs": [
    {
     "name": "stdout",
     "output_type": "stream",
     "text": [
      "Forecasting sales of properties using Holt-Winters method with additive seasonality.\n"
     ]
    }
   ],
   "source": [
    "print(\"Forecasting sales of properties using Holt-Winters method with additive seasonality.\")"
   ]
  },
  {
   "cell_type": "code",
   "execution_count": null,
   "metadata": {},
   "outputs": [],
   "source": []
  },
  {
   "cell_type": "code",
   "execution_count": null,
   "metadata": {},
   "outputs": [],
   "source": []
  }
 ],
 "metadata": {
  "kernelspec": {
   "display_name": "Python 3",
   "language": "python",
   "name": "python3"
  },
  "language_info": {
   "codemirror_mode": {
    "name": "ipython",
    "version": 3
   },
   "file_extension": ".py",
   "mimetype": "text/x-python",
   "name": "python",
   "nbconvert_exporter": "python",
   "pygments_lexer": "ipython3",
   "version": "3.7.0"
  }
 },
 "nbformat": 4,
 "nbformat_minor": 2
}
